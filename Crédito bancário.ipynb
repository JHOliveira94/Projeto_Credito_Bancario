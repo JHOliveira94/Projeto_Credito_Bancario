{
 "cells": [
  {
   "cell_type": "markdown",
   "metadata": {},
   "source": [
    "# Introdução"
   ]
  },
  {
   "cell_type": "markdown",
   "metadata": {},
   "source": [
    "Texto apresentando a pesquisa"
   ]
  },
  {
   "cell_type": "markdown",
   "metadata": {},
   "source": [
    "## Preparações iniciais - Bibliotecas e Dataset"
   ]
  },
  {
   "cell_type": "code",
   "execution_count": 2,
   "metadata": {},
   "outputs": [],
   "source": [
    "import pandas as pd\n",
    "import seaborn as sns\n",
    "import matplotlib.pyplot as plt"
   ]
  },
  {
   "cell_type": "code",
   "execution_count": 3,
   "metadata": {},
   "outputs": [],
   "source": [
    "df = pd.read_csv('credito.csv')"
   ]
  },
  {
   "cell_type": "markdown",
   "metadata": {},
   "source": [
    "# Conhecendo o Dataset"
   ]
  },
  {
   "cell_type": "markdown",
   "metadata": {},
   "source": [
    "### Fonte\n",
    "\n",
    "O conjunto de dados explorado nessa análise está disponível originalmente na plataforma Kaggle e [pode ser acessado clicando aqui](https://www.kaggle.com/datasets/srgiolutzer/limite-de-crdito-bancrio/data)."
   ]
  },
  {
   "cell_type": "code",
   "execution_count": 4,
   "metadata": {},
   "outputs": [
    {
     "data": {
      "text/html": [
       "<div>\n",
       "<style scoped>\n",
       "    .dataframe tbody tr th:only-of-type {\n",
       "        vertical-align: middle;\n",
       "    }\n",
       "\n",
       "    .dataframe tbody tr th {\n",
       "        vertical-align: top;\n",
       "    }\n",
       "\n",
       "    .dataframe thead th {\n",
       "        text-align: right;\n",
       "    }\n",
       "</style>\n",
       "<table border=\"1\" class=\"dataframe\">\n",
       "  <thead>\n",
       "    <tr style=\"text-align: right;\">\n",
       "      <th></th>\n",
       "      <th>id</th>\n",
       "      <th>default</th>\n",
       "      <th>idade</th>\n",
       "      <th>sexo</th>\n",
       "      <th>dependentes</th>\n",
       "      <th>escolaridade</th>\n",
       "      <th>estado_civil</th>\n",
       "      <th>salario_anual</th>\n",
       "      <th>tipo_cartao</th>\n",
       "      <th>meses_de_relacionamento</th>\n",
       "      <th>qtd_produtos</th>\n",
       "      <th>iteracoes_12m</th>\n",
       "      <th>meses_inativo_12m</th>\n",
       "      <th>limite_credito</th>\n",
       "      <th>valor_transacoes_12m</th>\n",
       "      <th>qtd_transacoes_12m</th>\n",
       "    </tr>\n",
       "  </thead>\n",
       "  <tbody>\n",
       "    <tr>\n",
       "      <th>0</th>\n",
       "      <td>768805383</td>\n",
       "      <td>0</td>\n",
       "      <td>45</td>\n",
       "      <td>M</td>\n",
       "      <td>3</td>\n",
       "      <td>ensino medio</td>\n",
       "      <td>casado</td>\n",
       "      <td>$60K - $80K</td>\n",
       "      <td>blue</td>\n",
       "      <td>39</td>\n",
       "      <td>5</td>\n",
       "      <td>3</td>\n",
       "      <td>1</td>\n",
       "      <td>12.691,51</td>\n",
       "      <td>1.144,90</td>\n",
       "      <td>42</td>\n",
       "    </tr>\n",
       "    <tr>\n",
       "      <th>1</th>\n",
       "      <td>818770008</td>\n",
       "      <td>0</td>\n",
       "      <td>49</td>\n",
       "      <td>F</td>\n",
       "      <td>5</td>\n",
       "      <td>mestrado</td>\n",
       "      <td>solteiro</td>\n",
       "      <td>menos que $40K</td>\n",
       "      <td>blue</td>\n",
       "      <td>44</td>\n",
       "      <td>6</td>\n",
       "      <td>2</td>\n",
       "      <td>1</td>\n",
       "      <td>8.256,96</td>\n",
       "      <td>1.291,45</td>\n",
       "      <td>33</td>\n",
       "    </tr>\n",
       "    <tr>\n",
       "      <th>2</th>\n",
       "      <td>713982108</td>\n",
       "      <td>0</td>\n",
       "      <td>51</td>\n",
       "      <td>M</td>\n",
       "      <td>3</td>\n",
       "      <td>mestrado</td>\n",
       "      <td>casado</td>\n",
       "      <td>$80K - $120K</td>\n",
       "      <td>blue</td>\n",
       "      <td>36</td>\n",
       "      <td>4</td>\n",
       "      <td>0</td>\n",
       "      <td>1</td>\n",
       "      <td>3.418,56</td>\n",
       "      <td>1.887,72</td>\n",
       "      <td>20</td>\n",
       "    </tr>\n",
       "    <tr>\n",
       "      <th>3</th>\n",
       "      <td>769911858</td>\n",
       "      <td>0</td>\n",
       "      <td>40</td>\n",
       "      <td>F</td>\n",
       "      <td>4</td>\n",
       "      <td>ensino medio</td>\n",
       "      <td>na</td>\n",
       "      <td>menos que $40K</td>\n",
       "      <td>blue</td>\n",
       "      <td>34</td>\n",
       "      <td>3</td>\n",
       "      <td>1</td>\n",
       "      <td>4</td>\n",
       "      <td>3.313,03</td>\n",
       "      <td>1.171,56</td>\n",
       "      <td>20</td>\n",
       "    </tr>\n",
       "    <tr>\n",
       "      <th>4</th>\n",
       "      <td>709106358</td>\n",
       "      <td>0</td>\n",
       "      <td>40</td>\n",
       "      <td>M</td>\n",
       "      <td>3</td>\n",
       "      <td>sem educacao formal</td>\n",
       "      <td>casado</td>\n",
       "      <td>$60K - $80K</td>\n",
       "      <td>blue</td>\n",
       "      <td>21</td>\n",
       "      <td>5</td>\n",
       "      <td>0</td>\n",
       "      <td>1</td>\n",
       "      <td>4.716,22</td>\n",
       "      <td>816,08</td>\n",
       "      <td>28</td>\n",
       "    </tr>\n",
       "  </tbody>\n",
       "</table>\n",
       "</div>"
      ],
      "text/plain": [
       "          id  default  idade sexo  dependentes         escolaridade  \\\n",
       "0  768805383        0     45    M            3         ensino medio   \n",
       "1  818770008        0     49    F            5             mestrado   \n",
       "2  713982108        0     51    M            3             mestrado   \n",
       "3  769911858        0     40    F            4         ensino medio   \n",
       "4  709106358        0     40    M            3  sem educacao formal   \n",
       "\n",
       "  estado_civil   salario_anual tipo_cartao  meses_de_relacionamento  \\\n",
       "0       casado     $60K - $80K        blue                       39   \n",
       "1     solteiro  menos que $40K        blue                       44   \n",
       "2       casado    $80K - $120K        blue                       36   \n",
       "3           na  menos que $40K        blue                       34   \n",
       "4       casado     $60K - $80K        blue                       21   \n",
       "\n",
       "   qtd_produtos  iteracoes_12m  meses_inativo_12m limite_credito  \\\n",
       "0             5              3                  1      12.691,51   \n",
       "1             6              2                  1       8.256,96   \n",
       "2             4              0                  1       3.418,56   \n",
       "3             3              1                  4       3.313,03   \n",
       "4             5              0                  1       4.716,22   \n",
       "\n",
       "  valor_transacoes_12m  qtd_transacoes_12m  \n",
       "0             1.144,90                  42  \n",
       "1             1.291,45                  33  \n",
       "2             1.887,72                  20  \n",
       "3             1.171,56                  20  \n",
       "4               816,08                  28  "
      ]
     },
     "execution_count": 4,
     "metadata": {},
     "output_type": "execute_result"
    }
   ],
   "source": [
    "# Vizualizando o dataset para impressões iniciais\n",
    "\n",
    "df.head()"
   ]
  },
  {
   "cell_type": "markdown",
   "metadata": {},
   "source": [
    "### Descrição segundo a fonte:\n",
    "\n",
    "Este dataset contém informações de perfil e comportamento de clientes de um banco, incluindo detalhes demográficos e dados relacionados à atividade bancária. O objetivo é fornecer insights sobre os fatores que podem influenciar o padrão de default (inadimplência) dos clientes.\n",
    "\n",
    "Os dados estão organizados em várias colunas, cada uma representando uma variável diferente, conforme descrito abaixo:\n",
    "\n",
    "- id: Identificador único para cada cliente.\n",
    "- default: Uma variável binária indicando se o cliente entrou em default (1 para sim, 0 para não).\n",
    "- idade: A idade do cliente em anos.\n",
    "- sexo: O gênero do cliente.\n",
    "- dependentes: Número de dependentes que o cliente possui.\n",
    "- escolaridade: Nível de escolaridade do cliente.\n",
    "- estado_civil: Estado civil do cliente.\n",
    "- salario_anual: Renda anual do cliente.\n",
    "- tipo_cartao: Tipo de cartão de crédito que o cliente possui.\n",
    "- meses_de_relacionamento: Quantidade de meses que o cliente tem um relacionamento com o banco.\n",
    "- qtd_produtos: Quantidade de produtos que o cliente tem com o banco.\n",
    "- iteracoes_12m: Quantidade de interações que o cliente teve com o banco nos últimos 12 meses.\n",
    "- meses_inativo_12m: Quantidade de meses que o cliente esteve inativo nos últimos 12 meses.\n",
    "- limite_credito: Limite de crédito do cliente.\n",
    "- valor_transacoes_12m: Valor total das transações que o cliente fez nos últimos 12 meses.\n",
    "- qtd_transacoes_12m: Quantidade total de transações que o cliente fez nos últimos 12 meses.\n",
    "\n",
    "Estes dados podem ser usados para construir modelos de machine learning para prever a probabilidade de um cliente entrar em default, possibilitando ao banco tomar medidas preventivas. Além disso, pode-se realizar uma análise exploratória para entender melhor o perfil dos clientes e identificar padrões e tendências."
   ]
  },
  {
   "cell_type": "markdown",
   "metadata": {},
   "source": [
    "### Verificações e tratamentos iniciais"
   ]
  },
  {
   "cell_type": "markdown",
   "metadata": {},
   "source": [
    "Nessa etapa, serão verificadas as estruturas do conjunto de dados, a formatação das informações e adequação das anotações como preparação para a análise."
   ]
  },
  {
   "cell_type": "code",
   "execution_count": 5,
   "metadata": {},
   "outputs": [
    {
     "name": "stdout",
     "output_type": "stream",
     "text": [
      "<class 'pandas.core.frame.DataFrame'>\n",
      "RangeIndex: 10127 entries, 0 to 10126\n",
      "Data columns (total 16 columns):\n",
      " #   Column                   Non-Null Count  Dtype \n",
      "---  ------                   --------------  ----- \n",
      " 0   id                       10127 non-null  int64 \n",
      " 1   default                  10127 non-null  int64 \n",
      " 2   idade                    10127 non-null  int64 \n",
      " 3   sexo                     10127 non-null  object\n",
      " 4   dependentes              10127 non-null  int64 \n",
      " 5   escolaridade             10127 non-null  object\n",
      " 6   estado_civil             10127 non-null  object\n",
      " 7   salario_anual            10127 non-null  object\n",
      " 8   tipo_cartao              10127 non-null  object\n",
      " 9   meses_de_relacionamento  10127 non-null  int64 \n",
      " 10  qtd_produtos             10127 non-null  int64 \n",
      " 11  iteracoes_12m            10127 non-null  int64 \n",
      " 12  meses_inativo_12m        10127 non-null  int64 \n",
      " 13  limite_credito           10127 non-null  object\n",
      " 14  valor_transacoes_12m     10127 non-null  object\n",
      " 15  qtd_transacoes_12m       10127 non-null  int64 \n",
      "dtypes: int64(9), object(7)\n",
      "memory usage: 1.2+ MB\n"
     ]
    }
   ],
   "source": [
    "df.info()"
   ]
  },
  {
   "cell_type": "markdown",
   "metadata": {},
   "source": [
    "Ao verificar as informações desse DataFrame, é perceptível que:\n",
    "- Não há problemas no index;\n",
    "- Não há dados nulos em todo o DataFrame;\n",
    "- Há necessidade de tratamento em duas colunas: 'limite_credito' e 'valor_transacoes_12m'\n",
    "    - Valores são numéricos do tipo float, porém por haver vírgula, foram interpretados como object"
   ]
  },
  {
   "cell_type": "code",
   "execution_count": 6,
   "metadata": {},
   "outputs": [
    {
     "name": "stdout",
     "output_type": "stream",
     "text": [
      "Coluna: default\n",
      "[0 1] \n",
      "\n",
      "Coluna: sexo\n",
      "['M' 'F'] \n",
      "\n",
      "Coluna: escolaridade\n",
      "['ensino medio' 'mestrado' 'sem educacao formal' 'na' 'graduacao'\n",
      " 'doutorado'] \n",
      "\n",
      "Coluna: estado_civil\n",
      "['casado' 'solteiro' 'na' 'divorciado'] \n",
      "\n",
      "Coluna: salario_anual\n",
      "['$60K - $80K' 'menos que $40K' '$80K - $120K' '$40K - $60K' '$120K +'\n",
      " 'na'] \n",
      "\n",
      "Coluna: tipo_cartao\n",
      "['blue' 'gold' 'silver' 'platinum'] \n",
      "\n"
     ]
    }
   ],
   "source": [
    "# Verificando a padronização das anotações das colunas categóricas.\n",
    "    # Exemplo: em estado civil, há \"casado\", \"casada\" e \"casada(o)\"?\n",
    "\n",
    "for col in df[['default', 'sexo', 'escolaridade', 'estado_civil', 'salario_anual', 'tipo_cartao']].columns:\n",
    "  print(f'Coluna: {col}')\n",
    "  print(df[col].unique(), '\\n')"
   ]
  },
  {
   "cell_type": "markdown",
   "metadata": {},
   "source": [
    "Com essa última verificação, observa-se que:\n",
    "- Essas colunas apresentam informações padronizadas;\n",
    "- As colunas 'escolaridade', 'estado_civil' e 'salario_anual' apresentam o valor **'na'**, indicando a falta da informação."
   ]
  },
  {
   "cell_type": "code",
   "execution_count": 7,
   "metadata": {},
   "outputs": [
    {
     "data": {
      "text/plain": [
       "id                         0\n",
       "default                    0\n",
       "idade                      0\n",
       "sexo                       0\n",
       "dependentes                0\n",
       "escolaridade               0\n",
       "estado_civil               0\n",
       "salario_anual              0\n",
       "tipo_cartao                0\n",
       "meses_de_relacionamento    0\n",
       "qtd_produtos               0\n",
       "iteracoes_12m              0\n",
       "meses_inativo_12m          0\n",
       "limite_credito             0\n",
       "valor_transacoes_12m       0\n",
       "qtd_transacoes_12m         0\n",
       "dtype: int64"
      ]
     },
     "execution_count": 7,
     "metadata": {},
     "output_type": "execute_result"
    }
   ],
   "source": [
    "df.isna().sum()"
   ]
  },
  {
   "cell_type": "markdown",
   "metadata": {},
   "source": [
    "Ao verificar a presença dos valores 'na' ao longo de todo o dataframe, conclui-se que eles foram preenchidos como 'na'."
   ]
  },
  {
   "cell_type": "code",
   "execution_count": 8,
   "metadata": {},
   "outputs": [
    {
     "data": {
      "text/plain": [
       "id                            0\n",
       "default                       0\n",
       "idade                         0\n",
       "sexo                          0\n",
       "dependentes                   0\n",
       "escolaridade               1519\n",
       "estado_civil                749\n",
       "salario_anual              1112\n",
       "tipo_cartao                   0\n",
       "meses_de_relacionamento       0\n",
       "qtd_produtos                  0\n",
       "iteracoes_12m                 0\n",
       "meses_inativo_12m             0\n",
       "limite_credito                0\n",
       "valor_transacoes_12m          0\n",
       "qtd_transacoes_12m            0\n",
       "dtype: int64"
      ]
     },
     "execution_count": 8,
     "metadata": {},
     "output_type": "execute_result"
    }
   ],
   "source": [
    "# Para confirmar se somente as três colunas mencionas possuem valores 'na':\n",
    "\n",
    "df.isin(['na']).sum()"
   ]
  },
  {
   "cell_type": "markdown",
   "metadata": {},
   "source": [
    "Esses valores 'na' não necessariamnete impactarão nas análises feitas. Portanto, serão mantidos no DataFrame.\n",
    "Vale ressaltar que são informações que não permitem inferência a partir das demais colunas, logo, caso haja necessidade de removê-los, assim será feito, mas, por hora, serão mantidos para preservar as demais informações de suas linhas."
   ]
  },
  {
   "cell_type": "markdown",
   "metadata": {},
   "source": [
    "#### Tratando as colunas 'limite_credito' e 'valor_transacoes_12m'"
   ]
  },
  {
   "cell_type": "code",
   "execution_count": 9,
   "metadata": {},
   "outputs": [
    {
     "data": {
      "text/html": [
       "<div>\n",
       "<style scoped>\n",
       "    .dataframe tbody tr th:only-of-type {\n",
       "        vertical-align: middle;\n",
       "    }\n",
       "\n",
       "    .dataframe tbody tr th {\n",
       "        vertical-align: top;\n",
       "    }\n",
       "\n",
       "    .dataframe thead th {\n",
       "        text-align: right;\n",
       "    }\n",
       "</style>\n",
       "<table border=\"1\" class=\"dataframe\">\n",
       "  <thead>\n",
       "    <tr style=\"text-align: right;\">\n",
       "      <th></th>\n",
       "      <th>limite_credito</th>\n",
       "      <th>valor_transacoes_12m</th>\n",
       "    </tr>\n",
       "  </thead>\n",
       "  <tbody>\n",
       "    <tr>\n",
       "      <th>0</th>\n",
       "      <td>12.691,51</td>\n",
       "      <td>1.144,90</td>\n",
       "    </tr>\n",
       "    <tr>\n",
       "      <th>1</th>\n",
       "      <td>8.256,96</td>\n",
       "      <td>1.291,45</td>\n",
       "    </tr>\n",
       "    <tr>\n",
       "      <th>2</th>\n",
       "      <td>3.418,56</td>\n",
       "      <td>1.887,72</td>\n",
       "    </tr>\n",
       "    <tr>\n",
       "      <th>3</th>\n",
       "      <td>3.313,03</td>\n",
       "      <td>1.171,56</td>\n",
       "    </tr>\n",
       "    <tr>\n",
       "      <th>4</th>\n",
       "      <td>4.716,22</td>\n",
       "      <td>816,08</td>\n",
       "    </tr>\n",
       "  </tbody>\n",
       "</table>\n",
       "</div>"
      ],
      "text/plain": [
       "  limite_credito valor_transacoes_12m\n",
       "0      12.691,51             1.144,90\n",
       "1       8.256,96             1.291,45\n",
       "2       3.418,56             1.887,72\n",
       "3       3.313,03             1.171,56\n",
       "4       4.716,22               816,08"
      ]
     },
     "execution_count": 9,
     "metadata": {},
     "output_type": "execute_result"
    }
   ],
   "source": [
    "# Retomando as necessidades de tratamento:\n",
    "\n",
    "df[['limite_credito', 'valor_transacoes_12m']].head()"
   ]
  },
  {
   "cell_type": "code",
   "execution_count": 10,
   "metadata": {},
   "outputs": [
    {
     "name": "stderr",
     "output_type": "stream",
     "text": [
      "C:\\Users\\José Henrique\\AppData\\Local\\Temp\\ipykernel_3024\\2906417258.py:1: FutureWarning: DataFrame.applymap has been deprecated. Use DataFrame.map instead.\n",
      "  df[['limite_credito', 'valor_transacoes_12m']] = df[['limite_credito', 'valor_transacoes_12m']].applymap(lambda x: x.replace('.', '')).applymap(lambda x: x.replace(',', '.')).astype(float)\n"
     ]
    },
    {
     "data": {
      "text/html": [
       "<div>\n",
       "<style scoped>\n",
       "    .dataframe tbody tr th:only-of-type {\n",
       "        vertical-align: middle;\n",
       "    }\n",
       "\n",
       "    .dataframe tbody tr th {\n",
       "        vertical-align: top;\n",
       "    }\n",
       "\n",
       "    .dataframe thead th {\n",
       "        text-align: right;\n",
       "    }\n",
       "</style>\n",
       "<table border=\"1\" class=\"dataframe\">\n",
       "  <thead>\n",
       "    <tr style=\"text-align: right;\">\n",
       "      <th></th>\n",
       "      <th>limite_credito</th>\n",
       "      <th>valor_transacoes_12m</th>\n",
       "    </tr>\n",
       "  </thead>\n",
       "  <tbody>\n",
       "    <tr>\n",
       "      <th>0</th>\n",
       "      <td>12691.51</td>\n",
       "      <td>1144.90</td>\n",
       "    </tr>\n",
       "    <tr>\n",
       "      <th>1</th>\n",
       "      <td>8256.96</td>\n",
       "      <td>1291.45</td>\n",
       "    </tr>\n",
       "    <tr>\n",
       "      <th>2</th>\n",
       "      <td>3418.56</td>\n",
       "      <td>1887.72</td>\n",
       "    </tr>\n",
       "    <tr>\n",
       "      <th>3</th>\n",
       "      <td>3313.03</td>\n",
       "      <td>1171.56</td>\n",
       "    </tr>\n",
       "    <tr>\n",
       "      <th>4</th>\n",
       "      <td>4716.22</td>\n",
       "      <td>816.08</td>\n",
       "    </tr>\n",
       "  </tbody>\n",
       "</table>\n",
       "</div>"
      ],
      "text/plain": [
       "   limite_credito  valor_transacoes_12m\n",
       "0        12691.51               1144.90\n",
       "1         8256.96               1291.45\n",
       "2         3418.56               1887.72\n",
       "3         3313.03               1171.56\n",
       "4         4716.22                816.08"
      ]
     },
     "execution_count": 10,
     "metadata": {},
     "output_type": "execute_result"
    }
   ],
   "source": [
    "df[['limite_credito', 'valor_transacoes_12m']] = df[['limite_credito', 'valor_transacoes_12m']].applymap(lambda x: x.replace('.', '')).applymap(lambda x: x.replace(',', '.')).astype(float)\n",
    "df[['limite_credito', 'valor_transacoes_12m']].head()"
   ]
  },
  {
   "cell_type": "code",
   "execution_count": 11,
   "metadata": {},
   "outputs": [
    {
     "name": "stdout",
     "output_type": "stream",
     "text": [
      "<class 'pandas.core.frame.DataFrame'>\n",
      "RangeIndex: 10127 entries, 0 to 10126\n",
      "Data columns (total 16 columns):\n",
      " #   Column                   Non-Null Count  Dtype  \n",
      "---  ------                   --------------  -----  \n",
      " 0   id                       10127 non-null  int64  \n",
      " 1   default                  10127 non-null  int64  \n",
      " 2   idade                    10127 non-null  int64  \n",
      " 3   sexo                     10127 non-null  object \n",
      " 4   dependentes              10127 non-null  int64  \n",
      " 5   escolaridade             10127 non-null  object \n",
      " 6   estado_civil             10127 non-null  object \n",
      " 7   salario_anual            10127 non-null  object \n",
      " 8   tipo_cartao              10127 non-null  object \n",
      " 9   meses_de_relacionamento  10127 non-null  int64  \n",
      " 10  qtd_produtos             10127 non-null  int64  \n",
      " 11  iteracoes_12m            10127 non-null  int64  \n",
      " 12  meses_inativo_12m        10127 non-null  int64  \n",
      " 13  limite_credito           10127 non-null  float64\n",
      " 14  valor_transacoes_12m     10127 non-null  float64\n",
      " 15  qtd_transacoes_12m       10127 non-null  int64  \n",
      "dtypes: float64(2), int64(9), object(5)\n",
      "memory usage: 1.2+ MB\n"
     ]
    }
   ],
   "source": [
    "df.info()"
   ]
  },
  {
   "cell_type": "markdown",
   "metadata": {},
   "source": [
    "## Conhecendo o Dataset - Conclusão"
   ]
  },
  {
   "cell_type": "markdown",
   "metadata": {},
   "source": [
    "Após as verificações e tratamentos, o dataset está pronto para ser analisado e os possíveis percalços com os valores 'na' já foram evidenciados."
   ]
  },
  {
   "cell_type": "code",
   "execution_count": 12,
   "metadata": {},
   "outputs": [
    {
     "data": {
      "text/html": [
       "<div>\n",
       "<style scoped>\n",
       "    .dataframe tbody tr th:only-of-type {\n",
       "        vertical-align: middle;\n",
       "    }\n",
       "\n",
       "    .dataframe tbody tr th {\n",
       "        vertical-align: top;\n",
       "    }\n",
       "\n",
       "    .dataframe thead th {\n",
       "        text-align: right;\n",
       "    }\n",
       "</style>\n",
       "<table border=\"1\" class=\"dataframe\">\n",
       "  <thead>\n",
       "    <tr style=\"text-align: right;\">\n",
       "      <th></th>\n",
       "      <th>id</th>\n",
       "      <th>default</th>\n",
       "      <th>idade</th>\n",
       "      <th>sexo</th>\n",
       "      <th>dependentes</th>\n",
       "      <th>escolaridade</th>\n",
       "      <th>estado_civil</th>\n",
       "      <th>salario_anual</th>\n",
       "      <th>tipo_cartao</th>\n",
       "      <th>meses_de_relacionamento</th>\n",
       "      <th>qtd_produtos</th>\n",
       "      <th>iteracoes_12m</th>\n",
       "      <th>meses_inativo_12m</th>\n",
       "      <th>limite_credito</th>\n",
       "      <th>valor_transacoes_12m</th>\n",
       "      <th>qtd_transacoes_12m</th>\n",
       "    </tr>\n",
       "  </thead>\n",
       "  <tbody>\n",
       "    <tr>\n",
       "      <th>0</th>\n",
       "      <td>768805383</td>\n",
       "      <td>0</td>\n",
       "      <td>45</td>\n",
       "      <td>M</td>\n",
       "      <td>3</td>\n",
       "      <td>ensino medio</td>\n",
       "      <td>casado</td>\n",
       "      <td>$60K - $80K</td>\n",
       "      <td>blue</td>\n",
       "      <td>39</td>\n",
       "      <td>5</td>\n",
       "      <td>3</td>\n",
       "      <td>1</td>\n",
       "      <td>12691.51</td>\n",
       "      <td>1144.90</td>\n",
       "      <td>42</td>\n",
       "    </tr>\n",
       "    <tr>\n",
       "      <th>1</th>\n",
       "      <td>818770008</td>\n",
       "      <td>0</td>\n",
       "      <td>49</td>\n",
       "      <td>F</td>\n",
       "      <td>5</td>\n",
       "      <td>mestrado</td>\n",
       "      <td>solteiro</td>\n",
       "      <td>menos que $40K</td>\n",
       "      <td>blue</td>\n",
       "      <td>44</td>\n",
       "      <td>6</td>\n",
       "      <td>2</td>\n",
       "      <td>1</td>\n",
       "      <td>8256.96</td>\n",
       "      <td>1291.45</td>\n",
       "      <td>33</td>\n",
       "    </tr>\n",
       "    <tr>\n",
       "      <th>2</th>\n",
       "      <td>713982108</td>\n",
       "      <td>0</td>\n",
       "      <td>51</td>\n",
       "      <td>M</td>\n",
       "      <td>3</td>\n",
       "      <td>mestrado</td>\n",
       "      <td>casado</td>\n",
       "      <td>$80K - $120K</td>\n",
       "      <td>blue</td>\n",
       "      <td>36</td>\n",
       "      <td>4</td>\n",
       "      <td>0</td>\n",
       "      <td>1</td>\n",
       "      <td>3418.56</td>\n",
       "      <td>1887.72</td>\n",
       "      <td>20</td>\n",
       "    </tr>\n",
       "    <tr>\n",
       "      <th>3</th>\n",
       "      <td>769911858</td>\n",
       "      <td>0</td>\n",
       "      <td>40</td>\n",
       "      <td>F</td>\n",
       "      <td>4</td>\n",
       "      <td>ensino medio</td>\n",
       "      <td>na</td>\n",
       "      <td>menos que $40K</td>\n",
       "      <td>blue</td>\n",
       "      <td>34</td>\n",
       "      <td>3</td>\n",
       "      <td>1</td>\n",
       "      <td>4</td>\n",
       "      <td>3313.03</td>\n",
       "      <td>1171.56</td>\n",
       "      <td>20</td>\n",
       "    </tr>\n",
       "    <tr>\n",
       "      <th>4</th>\n",
       "      <td>709106358</td>\n",
       "      <td>0</td>\n",
       "      <td>40</td>\n",
       "      <td>M</td>\n",
       "      <td>3</td>\n",
       "      <td>sem educacao formal</td>\n",
       "      <td>casado</td>\n",
       "      <td>$60K - $80K</td>\n",
       "      <td>blue</td>\n",
       "      <td>21</td>\n",
       "      <td>5</td>\n",
       "      <td>0</td>\n",
       "      <td>1</td>\n",
       "      <td>4716.22</td>\n",
       "      <td>816.08</td>\n",
       "      <td>28</td>\n",
       "    </tr>\n",
       "  </tbody>\n",
       "</table>\n",
       "</div>"
      ],
      "text/plain": [
       "          id  default  idade sexo  dependentes         escolaridade  \\\n",
       "0  768805383        0     45    M            3         ensino medio   \n",
       "1  818770008        0     49    F            5             mestrado   \n",
       "2  713982108        0     51    M            3             mestrado   \n",
       "3  769911858        0     40    F            4         ensino medio   \n",
       "4  709106358        0     40    M            3  sem educacao formal   \n",
       "\n",
       "  estado_civil   salario_anual tipo_cartao  meses_de_relacionamento  \\\n",
       "0       casado     $60K - $80K        blue                       39   \n",
       "1     solteiro  menos que $40K        blue                       44   \n",
       "2       casado    $80K - $120K        blue                       36   \n",
       "3           na  menos que $40K        blue                       34   \n",
       "4       casado     $60K - $80K        blue                       21   \n",
       "\n",
       "   qtd_produtos  iteracoes_12m  meses_inativo_12m  limite_credito  \\\n",
       "0             5              3                  1        12691.51   \n",
       "1             6              2                  1         8256.96   \n",
       "2             4              0                  1         3418.56   \n",
       "3             3              1                  4         3313.03   \n",
       "4             5              0                  1         4716.22   \n",
       "\n",
       "   valor_transacoes_12m  qtd_transacoes_12m  \n",
       "0               1144.90                  42  \n",
       "1               1291.45                  33  \n",
       "2               1887.72                  20  \n",
       "3               1171.56                  20  \n",
       "4                816.08                  28  "
      ]
     },
     "execution_count": 12,
     "metadata": {},
     "output_type": "execute_result"
    }
   ],
   "source": [
    "df.head()"
   ]
  },
  {
   "cell_type": "markdown",
   "metadata": {},
   "source": [
    "# Objetivos da análise"
   ]
  },
  {
   "cell_type": "markdown",
   "metadata": {},
   "source": [
    "Compreender o perfil de clientes que entraram em ***default***.\n",
    "- Identificar padrões de comportamento e características dos clientes em ***default***.\n",
    "- Comparar os padrões e características identificados com o grupo de clientes que não está em ***default***.\n"
   ]
  },
  {
   "cell_type": "markdown",
   "metadata": {},
   "source": [
    "# Exploração das variáveis"
   ]
  },
  {
   "cell_type": "markdown",
   "metadata": {},
   "source": [
    "Nessa etapa, as variáveis presentes no Dataset serão avaliadas para a identificação de padrões e percepção de insights."
   ]
  },
  {
   "cell_type": "code",
   "execution_count": 13,
   "metadata": {},
   "outputs": [
    {
     "name": "stdout",
     "output_type": "stream",
     "text": [
      "Valores únicos da variável: [0 1] \n",
      "\n",
      "Total de clientes em default: 1627\n",
      "\n",
      "Clientes em default representam 16.07% do total de clientes.\n"
     ]
    }
   ],
   "source": [
    "# Explorando a coluna default\n",
    "\n",
    "print(f'Valores únicos da variável: {df.default.unique()} \\n')\n",
    "\n",
    "clientes_default = df['default'].sum()\n",
    "print(f'Total de clientes em default: {clientes_default}\\n')\n",
    "\n",
    "porcentagem_default = round((clientes_default / df.shape[0] * 100), 2)\n",
    "print(f'Clientes em default representam {porcentagem_default}% do total de clientes.')"
   ]
  },
  {
   "cell_type": "markdown",
   "metadata": {},
   "source": [
    "Com essa análise, percebe-se que há percentual considerável de clientes em ***default***.\n",
    "> Vale ressaltar que, nas informações sobre o Dataset, não consta o percentual tolerável de clientes em ***default***."
   ]
  },
  {
   "cell_type": "code",
   "execution_count": 14,
   "metadata": {},
   "outputs": [
    {
     "data": {
      "text/html": [
       "<div>\n",
       "<style scoped>\n",
       "    .dataframe tbody tr th:only-of-type {\n",
       "        vertical-align: middle;\n",
       "    }\n",
       "\n",
       "    .dataframe tbody tr th {\n",
       "        vertical-align: top;\n",
       "    }\n",
       "\n",
       "    .dataframe thead th {\n",
       "        text-align: right;\n",
       "    }\n",
       "</style>\n",
       "<table border=\"1\" class=\"dataframe\">\n",
       "  <thead>\n",
       "    <tr style=\"text-align: right;\">\n",
       "      <th></th>\n",
       "      <th>idade</th>\n",
       "      <th>sexo</th>\n",
       "      <th>dependentes</th>\n",
       "      <th>escolaridade</th>\n",
       "      <th>estado_civil</th>\n",
       "      <th>salario_anual</th>\n",
       "      <th>tipo_cartao</th>\n",
       "      <th>meses_de_relacionamento</th>\n",
       "      <th>qtd_produtos</th>\n",
       "      <th>iteracoes_12m</th>\n",
       "      <th>meses_inativo_12m</th>\n",
       "      <th>limite_credito</th>\n",
       "      <th>valor_transacoes_12m</th>\n",
       "      <th>qtd_transacoes_12m</th>\n",
       "    </tr>\n",
       "  </thead>\n",
       "  <tbody>\n",
       "    <tr>\n",
       "      <th>0</th>\n",
       "      <td>62</td>\n",
       "      <td>F</td>\n",
       "      <td>0</td>\n",
       "      <td>mestrado</td>\n",
       "      <td>casado</td>\n",
       "      <td>menos que $40K</td>\n",
       "      <td>blue</td>\n",
       "      <td>49</td>\n",
       "      <td>2</td>\n",
       "      <td>3</td>\n",
       "      <td>3</td>\n",
       "      <td>1438.73</td>\n",
       "      <td>692.25</td>\n",
       "      <td>16</td>\n",
       "    </tr>\n",
       "    <tr>\n",
       "      <th>1</th>\n",
       "      <td>66</td>\n",
       "      <td>F</td>\n",
       "      <td>0</td>\n",
       "      <td>doutorado</td>\n",
       "      <td>casado</td>\n",
       "      <td>na</td>\n",
       "      <td>blue</td>\n",
       "      <td>56</td>\n",
       "      <td>5</td>\n",
       "      <td>3</td>\n",
       "      <td>4</td>\n",
       "      <td>7882.47</td>\n",
       "      <td>704.78</td>\n",
       "      <td>16</td>\n",
       "    </tr>\n",
       "    <tr>\n",
       "      <th>2</th>\n",
       "      <td>54</td>\n",
       "      <td>F</td>\n",
       "      <td>1</td>\n",
       "      <td>mestrado</td>\n",
       "      <td>casado</td>\n",
       "      <td>menos que $40K</td>\n",
       "      <td>blue</td>\n",
       "      <td>40</td>\n",
       "      <td>2</td>\n",
       "      <td>1</td>\n",
       "      <td>3</td>\n",
       "      <td>1438.08</td>\n",
       "      <td>705.59</td>\n",
       "      <td>19</td>\n",
       "    </tr>\n",
       "    <tr>\n",
       "      <th>3</th>\n",
       "      <td>56</td>\n",
       "      <td>M</td>\n",
       "      <td>2</td>\n",
       "      <td>mestrado</td>\n",
       "      <td>casado</td>\n",
       "      <td>$120K +</td>\n",
       "      <td>blue</td>\n",
       "      <td>36</td>\n",
       "      <td>1</td>\n",
       "      <td>3</td>\n",
       "      <td>3</td>\n",
       "      <td>15769.34</td>\n",
       "      <td>602.60</td>\n",
       "      <td>15</td>\n",
       "    </tr>\n",
       "    <tr>\n",
       "      <th>4</th>\n",
       "      <td>48</td>\n",
       "      <td>M</td>\n",
       "      <td>2</td>\n",
       "      <td>mestrado</td>\n",
       "      <td>casado</td>\n",
       "      <td>$60K - $80K</td>\n",
       "      <td>silver</td>\n",
       "      <td>35</td>\n",
       "      <td>2</td>\n",
       "      <td>4</td>\n",
       "      <td>4</td>\n",
       "      <td>34516.60</td>\n",
       "      <td>691.10</td>\n",
       "      <td>15</td>\n",
       "    </tr>\n",
       "  </tbody>\n",
       "</table>\n",
       "</div>"
      ],
      "text/plain": [
       "   idade sexo  dependentes escolaridade estado_civil   salario_anual  \\\n",
       "0     62    F            0     mestrado       casado  menos que $40K   \n",
       "1     66    F            0    doutorado       casado              na   \n",
       "2     54    F            1     mestrado       casado  menos que $40K   \n",
       "3     56    M            2     mestrado       casado         $120K +   \n",
       "4     48    M            2     mestrado       casado     $60K - $80K   \n",
       "\n",
       "  tipo_cartao  meses_de_relacionamento  qtd_produtos  iteracoes_12m  \\\n",
       "0        blue                       49             2              3   \n",
       "1        blue                       56             5              3   \n",
       "2        blue                       40             2              1   \n",
       "3        blue                       36             1              3   \n",
       "4      silver                       35             2              4   \n",
       "\n",
       "   meses_inativo_12m  limite_credito  valor_transacoes_12m  qtd_transacoes_12m  \n",
       "0                  3         1438.73                692.25                  16  \n",
       "1                  4         7882.47                704.78                  16  \n",
       "2                  3         1438.08                705.59                  19  \n",
       "3                  3        15769.34                602.60                  15  \n",
       "4                  4        34516.60                691.10                  15  "
      ]
     },
     "execution_count": 14,
     "metadata": {},
     "output_type": "execute_result"
    }
   ],
   "source": [
    "# Destacando o DataFrame apenas de clientes em default\n",
    "\n",
    "df_default = df.loc[df['default'] == 1].copy()\n",
    "df_default.reset_index(drop = True, inplace = True)\n",
    "\n",
    "# Coluna Id não agrega para essa análise, portanto será retirada.\n",
    "df_default.drop('id', axis = 1, inplace = True)\n",
    "\n",
    "# Como esse dataframe é constituido apenas de clientes em default, a coluna default também não agrega para essa análise\n",
    "df_default.drop('default', axis = 1, inplace = True)\n",
    "\n",
    "df_default.head()"
   ]
  },
  {
   "cell_type": "markdown",
   "metadata": {},
   "source": [
    "Com o destaque dos clientes em Default, é válida uma análise geral dos dados"
   ]
  },
  {
   "cell_type": "code",
   "execution_count": 15,
   "metadata": {},
   "outputs": [
    {
     "data": {
      "text/html": [
       "<div>\n",
       "<style scoped>\n",
       "    .dataframe tbody tr th:only-of-type {\n",
       "        vertical-align: middle;\n",
       "    }\n",
       "\n",
       "    .dataframe tbody tr th {\n",
       "        vertical-align: top;\n",
       "    }\n",
       "\n",
       "    .dataframe thead th {\n",
       "        text-align: right;\n",
       "    }\n",
       "</style>\n",
       "<table border=\"1\" class=\"dataframe\">\n",
       "  <thead>\n",
       "    <tr style=\"text-align: right;\">\n",
       "      <th></th>\n",
       "      <th>idade</th>\n",
       "      <th>dependentes</th>\n",
       "      <th>meses_de_relacionamento</th>\n",
       "      <th>qtd_produtos</th>\n",
       "      <th>iteracoes_12m</th>\n",
       "      <th>meses_inativo_12m</th>\n",
       "      <th>limite_credito</th>\n",
       "      <th>valor_transacoes_12m</th>\n",
       "      <th>qtd_transacoes_12m</th>\n",
       "    </tr>\n",
       "  </thead>\n",
       "  <tbody>\n",
       "    <tr>\n",
       "      <th>count</th>\n",
       "      <td>1627.000000</td>\n",
       "      <td>1627.000000</td>\n",
       "      <td>1627.000000</td>\n",
       "      <td>1627.000000</td>\n",
       "      <td>1627.000000</td>\n",
       "      <td>1627.000000</td>\n",
       "      <td>1627.000000</td>\n",
       "      <td>1627.000000</td>\n",
       "      <td>1627.000000</td>\n",
       "    </tr>\n",
       "    <tr>\n",
       "      <th>mean</th>\n",
       "      <td>46.659496</td>\n",
       "      <td>2.402581</td>\n",
       "      <td>36.178242</td>\n",
       "      <td>3.279656</td>\n",
       "      <td>2.972342</td>\n",
       "      <td>2.693301</td>\n",
       "      <td>8136.519533</td>\n",
       "      <td>3095.515765</td>\n",
       "      <td>44.933620</td>\n",
       "    </tr>\n",
       "    <tr>\n",
       "      <th>std</th>\n",
       "      <td>7.665652</td>\n",
       "      <td>1.275010</td>\n",
       "      <td>7.796548</td>\n",
       "      <td>1.577782</td>\n",
       "      <td>1.090537</td>\n",
       "      <td>0.899623</td>\n",
       "      <td>9095.348927</td>\n",
       "      <td>2308.213713</td>\n",
       "      <td>14.568429</td>\n",
       "    </tr>\n",
       "    <tr>\n",
       "      <th>min</th>\n",
       "      <td>26.000000</td>\n",
       "      <td>0.000000</td>\n",
       "      <td>13.000000</td>\n",
       "      <td>1.000000</td>\n",
       "      <td>0.000000</td>\n",
       "      <td>0.000000</td>\n",
       "      <td>1438.000000</td>\n",
       "      <td>510.160000</td>\n",
       "      <td>10.000000</td>\n",
       "    </tr>\n",
       "    <tr>\n",
       "      <th>25%</th>\n",
       "      <td>41.000000</td>\n",
       "      <td>2.000000</td>\n",
       "      <td>32.000000</td>\n",
       "      <td>2.000000</td>\n",
       "      <td>2.000000</td>\n",
       "      <td>2.000000</td>\n",
       "      <td>2114.185000</td>\n",
       "      <td>1904.075000</td>\n",
       "      <td>37.000000</td>\n",
       "    </tr>\n",
       "    <tr>\n",
       "      <th>50%</th>\n",
       "      <td>47.000000</td>\n",
       "      <td>2.000000</td>\n",
       "      <td>36.000000</td>\n",
       "      <td>3.000000</td>\n",
       "      <td>3.000000</td>\n",
       "      <td>3.000000</td>\n",
       "      <td>4178.030000</td>\n",
       "      <td>2329.240000</td>\n",
       "      <td>43.000000</td>\n",
       "    </tr>\n",
       "    <tr>\n",
       "      <th>75%</th>\n",
       "      <td>52.000000</td>\n",
       "      <td>3.000000</td>\n",
       "      <td>40.000000</td>\n",
       "      <td>5.000000</td>\n",
       "      <td>4.000000</td>\n",
       "      <td>3.000000</td>\n",
       "      <td>9933.665000</td>\n",
       "      <td>2772.615000</td>\n",
       "      <td>51.000000</td>\n",
       "    </tr>\n",
       "    <tr>\n",
       "      <th>max</th>\n",
       "      <td>68.000000</td>\n",
       "      <td>5.000000</td>\n",
       "      <td>56.000000</td>\n",
       "      <td>6.000000</td>\n",
       "      <td>6.000000</td>\n",
       "      <td>6.000000</td>\n",
       "      <td>34516.980000</td>\n",
       "      <td>10583.790000</td>\n",
       "      <td>94.000000</td>\n",
       "    </tr>\n",
       "  </tbody>\n",
       "</table>\n",
       "</div>"
      ],
      "text/plain": [
       "             idade  dependentes  meses_de_relacionamento  qtd_produtos  \\\n",
       "count  1627.000000  1627.000000              1627.000000   1627.000000   \n",
       "mean     46.659496     2.402581                36.178242      3.279656   \n",
       "std       7.665652     1.275010                 7.796548      1.577782   \n",
       "min      26.000000     0.000000                13.000000      1.000000   \n",
       "25%      41.000000     2.000000                32.000000      2.000000   \n",
       "50%      47.000000     2.000000                36.000000      3.000000   \n",
       "75%      52.000000     3.000000                40.000000      5.000000   \n",
       "max      68.000000     5.000000                56.000000      6.000000   \n",
       "\n",
       "       iteracoes_12m  meses_inativo_12m  limite_credito  valor_transacoes_12m  \\\n",
       "count    1627.000000        1627.000000     1627.000000           1627.000000   \n",
       "mean        2.972342           2.693301     8136.519533           3095.515765   \n",
       "std         1.090537           0.899623     9095.348927           2308.213713   \n",
       "min         0.000000           0.000000     1438.000000            510.160000   \n",
       "25%         2.000000           2.000000     2114.185000           1904.075000   \n",
       "50%         3.000000           3.000000     4178.030000           2329.240000   \n",
       "75%         4.000000           3.000000     9933.665000           2772.615000   \n",
       "max         6.000000           6.000000    34516.980000          10583.790000   \n",
       "\n",
       "       qtd_transacoes_12m  \n",
       "count         1627.000000  \n",
       "mean            44.933620  \n",
       "std             14.568429  \n",
       "min             10.000000  \n",
       "25%             37.000000  \n",
       "50%             43.000000  \n",
       "75%             51.000000  \n",
       "max             94.000000  "
      ]
     },
     "execution_count": 15,
     "metadata": {},
     "output_type": "execute_result"
    }
   ],
   "source": [
    "# Visão geral dos dados numéricos\n",
    "\n",
    "df_default.describe()"
   ]
  },
  {
   "cell_type": "markdown",
   "metadata": {},
   "source": [
    "Os valores encontrados nas colunas numéricas seguem, de forma geral, comportamento adequado para o contexto.\n",
    "\n",
    "As colunas 'limite_credito', 'valor_trasacoes_12m' e 'qtd_trasacoes_12m' apresentem valores máximos que valem ser investigados como possíveis outliers devido distanciamento do terceiro quartil e do efeito que causam na média.\n",
    "\n",
    "Para tal serão analisados boxplots dessas colunas."
   ]
  },
  {
   "cell_type": "code",
   "execution_count": 47,
   "metadata": {},
   "outputs": [
    {
     "data": {
      "text/plain": [
       "Text(0, 0.5, 'Qtd transações 12m')"
      ]
     },
     "execution_count": 47,
     "metadata": {},
     "output_type": "execute_result"
    },
    {
     "data": {
      "image/png": "[encoded data removed]",
      "text/plain": [
       "<Figure size 2000x700 with 3 Axes>"
      ]
     },
     "metadata": {},
     "output_type": "display_data"
    }
   ],
   "source": [
    "# Gerando bloxpot das colunas 'limite_credito', 'valor_transacoes_12m' e 'qtd_transacoes_12m'\n",
    "\n",
    "fig, axs = plt.subplots(1, 3, figsize = (20, 7))\n",
    "\n",
    "box_1 = sns.boxplot(data = df_default, y = 'limite_credito', ax = axs[0])\n",
    "box_1.set_ylabel('Limite de crédito', fontsize = 15)\n",
    "\n",
    "box_2 = sns.boxplot(data = df_default, y = 'valor_transacoes_12m', ax = axs[1])\n",
    "box_2.set_ylabel('Valor Transações 12m', fontsize = 15)\n",
    "\n",
    "box_3 = sns.boxplot(data = df_default, y = 'qtd_transacoes_12m', ax = axs[2])\n",
    "box_3.set_ylabel('Qtd transações 12m', fontsize = 15)\n"
   ]
  },
  {
   "cell_type": "markdown",
   "metadata": {},
   "source": [
    "Os boxplots indicam grande quantidade de outliers nas colunas destacadas. <br>\n",
    "Usando as informações fornecidas nesse Dataset e de acordo com as descrições de cada coluna, não é possível verificar se os valores entregues são fruto de erro de cálculo ou de digitação.\n",
    "\n",
    "Portanto, será investigada a relevância do limite de crétido nesse contexto, pois quanto maior o limite, mais possibilidades de uso os clientes possuem."
   ]
  },
  {
   "cell_type": "code",
   "execution_count": 17,
   "metadata": {},
   "outputs": [
    {
     "data": {
      "text/plain": [
       "Text(0.5, 0, 'Tipo de cartão')"
      ]
     },
     "execution_count": 17,
     "metadata": {},
     "output_type": "execute_result"
    },
    {
     "data": {
      "image/png": "[encoded data removed]",
      "text/plain": [
       "<Figure size 2000x500 with 4 Axes>"
      ]
     },
     "metadata": {},
     "output_type": "display_data"
    }
   ],
   "source": [
    "# Visão geral dos dados categóricos através de gráficos\n",
    "\n",
    "fig, axs = plt.subplots(1,4, figsize = (20, 5), sharey = True)\n",
    "fig.suptitle('Frequência por categoria', fontsize = 24)\n",
    "\n",
    "g1 = sns.countplot(data = df_default, x = 'sexo', ax = axs[0])\n",
    "g1.set_ylabel('Frequência', fontsize = 15)\n",
    "g1.set_xlabel('Sexo', fontsize = 15)\n",
    "\n",
    "g2 = sns.countplot(data = df_default, x = 'escolaridade', ax = axs[1])\n",
    "g2.set_ylabel('')\n",
    "g2.tick_params(axis='x', labelrotation=90)\n",
    "g2.set_xlabel('Escolaridade', fontsize = 15)\n",
    "\n",
    "g3 = sns.countplot(data = df_default, x = 'estado_civil', ax = axs[2])\n",
    "g3.set_ylabel('')\n",
    "g3.tick_params(axis='x', labelrotation=90)\n",
    "g3.set_xlabel('Estado civil', fontsize = 15)\n",
    "\n",
    "g4 = sns.countplot(data = df_default, x = 'tipo_cartao', ax = axs[3])\n",
    "g4.set_ylabel('')\n",
    "g4.tick_params(axis='x', labelrotation=90)\n",
    "g4.set_xlabel('Tipo de cartão', fontsize = 15)"
   ]
  },
  {
   "cell_type": "markdown",
   "metadata": {},
   "source": [
    "## Default exploração univariada - conclusões"
   ]
  }
 ],
 "metadata": {
  "kernelspec": {
   "display_name": "base",
   "language": "python",
   "name": "python3"
  },
  "language_info": {
   "codemirror_mode": {
    "name": "ipython",
    "version": 3
   },
   "file_extension": ".py",
   "mimetype": "text/x-python",
   "name": "python",
   "nbconvert_exporter": "python",
   "pygments_lexer": "ipython3",
   "version": "3.11.7"
  }
 },
 "nbformat": 4,
 "nbformat_minor": 2
}
