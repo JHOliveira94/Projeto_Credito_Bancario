{
 "cells": [
  {
   "cell_type": "markdown",
   "metadata": {},
   "source": [
    "# Limite de crédito bancário - um estudo de clientes em default"
   ]
  },
  {
   "cell_type": "markdown",
   "metadata": {},
   "source": [
    "Com este projeto de dados, pretende-se compreender o comportamento de clientes de um banco que entraram em default, analisando algumas varáveis como limite de crédito, salário anual, idade, tipo de cartão e tempo de rlacionamento com o banco.\n",
    "\n",
    "O Dataset foi obtido na plataforma Kaggle e [pode ser acessado clicando aqui](https://www.kaggle.com/datasets/srgiolutzer/limite-de-crdito-bancrio/data)."
   ]
  },
  {
   "cell_type": "markdown",
   "metadata": {},
   "source": [
    "## Ferramentas"
   ]
  },
  {
   "cell_type": "markdown",
   "metadata": {},
   "source": [
    "Foram utilizadas, para análise dos dados a seguinte configuração:\n",
    "- Pacote Anaconda 3\n",
    "- Python 3.11.7\n",
    "- VS Code, com as extensões: Jupyter e Python\n",
    "\n",
    "Inicialmente, foi utilizado o Google Colab, mas o projeto foi retomado e refeito desde o início no VS Code."
   ]
  },
  {
   "cell_type": "markdown",
   "metadata": {},
   "source": [
    "## Portfolio"
   ]
  },
  {
   "cell_type": "markdown",
   "metadata": {},
   "source": [
    "Esse é o primeiro projeto que realizo para meu portfolio, aplicando os estudos realizados acerca da área de dados, mais especificamente de Ciência de Dados.<br>\n",
    "Por ser o primeiro trabalho pessoal, optei por trabalhar as fases iniciais de uma análise.\n",
    "\n",
    "Alguns pontos que destaco sobre a aprendizagem com esse trabalho:\n",
    "- Conhecer sobre os negócio de um banco e a ideia de cliente em default.\n",
    "- Descrever as etapas e as respectivas ações a serem tomadas, além de facilitar para que terceiros compreendam o trabalho feito, também auxilia na sua construção e retomada durante o processo.\n",
    "- A construção dos gráficos utilizando subplots foi desafiadora, e mesmo precisando refinar tal habilidade, finalizo esse projeto contente com o resultado, visto que são os gráficos mais complexos que programei e consegui chegar muito próximo dos resultados que desejava.\n",
    "- Questionar os dados e elaborar questões para investigá-los são pontos essenciais e uma tarefa árdua.\n",
    "\n",
    "Alguns pontos que necessito aprofundar:\n",
    "- Organização dos dados para plotagem. Por mais que tenha conseguido gerar os gráficos desejados, acredito que a programação pode ser otimizada e melhor elaborada.\n",
    "- Ainda sobre os gráficos, necessito aprofundar meus conhecimentos sobre suas configurações e customizações.\n",
    "\n",
    "De forma geral, fico contente com o resultado desse projeto.<br>\n",
    "Com o tempo, espero revisitá-lo para observar o quanto evolui em meus estudos, olhando-o como etapa fundamental de meu aprendizado.\n",
    "\n",
    "Fico feliz em compartilhar meu processo."
   ]
  }
 ],
 "metadata": {
  "language_info": {
   "name": "python"
  }
 },
 "nbformat": 4,
 "nbformat_minor": 2
}
